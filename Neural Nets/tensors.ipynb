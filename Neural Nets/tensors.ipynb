{
 "cells": [
  {
   "cell_type": "code",
   "execution_count": 1,
   "metadata": {},
   "outputs": [],
   "source": [
    "import torch"
   ]
  },
  {
   "cell_type": "code",
   "execution_count": 4,
   "metadata": {},
   "outputs": [],
   "source": [
    "X1=torch.tensor([2.0]).double() ; X1.requires_grad=True\n",
    "X2=torch.tensor([0]).double() ; X2.requires_grad=True\n",
    "w1=torch.tensor([-3.0]).double() ; w1.requires_grad=True\n",
    "w2=torch.tensor([1.0]).double() ; w2.requires_grad=True\n",
    "b = torch.tensor([6.8813735870195432]).double(); b.requires_grad=True"
   ]
  },
  {
   "cell_type": "code",
   "execution_count": 6,
   "metadata": {},
   "outputs": [],
   "source": [
    "n=X1*w1+X2*w2+b\n",
    "o=torch.tanh(n)\n"
   ]
  },
  {
   "cell_type": "code",
   "execution_count": 11,
   "metadata": {},
   "outputs": [],
   "source": [
    "o.backward()"
   ]
  },
  {
   "cell_type": "code",
   "execution_count": 14,
   "metadata": {},
   "outputs": [
    {
     "name": "stdout",
     "output_type": "stream",
     "text": [
      "X2 0.5000001283844369\n",
      "w2 0.0\n",
      "X1 0.5000001283844369\n",
      "w1 1.0000002567688737\n"
     ]
    }
   ],
   "source": [
    "print('X2',X2.grad.item())\n",
    "print( 'w2',w2.grad.item())\n",
    "print('X1',X2.grad.item())\n",
    "print('w1',w1.grad.item())\n",
    "# print('n',n.grad.item())"
   ]
  },
  {
   "cell_type": "code",
   "execution_count": 16,
   "metadata": {},
   "outputs": [
    {
     "data": {
      "text/plain": [
       "0.7071066904050358"
      ]
     },
     "execution_count": 16,
     "metadata": {},
     "output_type": "execute_result"
    }
   ],
   "source": [
    "o.item()"
   ]
  },
  {
   "cell_type": "code",
   "execution_count": null,
   "metadata": {},
   "outputs": [],
   "source": []
  }
 ],
 "metadata": {
  "kernelspec": {
   "display_name": "Python 3",
   "language": "python",
   "name": "python3"
  },
  "language_info": {
   "codemirror_mode": {
    "name": "ipython",
    "version": 3
   },
   "file_extension": ".py",
   "mimetype": "text/x-python",
   "name": "python",
   "nbconvert_exporter": "python",
   "pygments_lexer": "ipython3",
   "version": "3.11.4"
  }
 },
 "nbformat": 4,
 "nbformat_minor": 2
}
